{
  "cells": [
    {
      "cell_type": "markdown",
      "metadata": {
        "collapsed": true,
        "id": "fbNXzKJY9W_8",
        "jupyter": {
          "outputs_hidden": false,
          "source_hidden": false
        },
        "nteract": {
          "transient": {
            "deleting": false
          }
        }
      },
      "source": [
        "# Getting started"
      ]
    },
    {
      "cell_type": "markdown",
      "metadata": {
        "id": "ND6WYogq-dd6"
      },
      "source": [
        "*Run this example in* [colab](https://colab.research.google.com/drive/1B6bGMo2rYvs6IfpBzg0qj8LZnmIyGaq7)!"
      ]
    },
    {
      "cell_type": "markdown",
      "metadata": {
        "id": "pJqgVMV09W_-"
      },
      "source": [
        "In this example, we use the BayHess package to assist MICE in minimizing a quadratic function. Let the quadratic function $f$ to minimized be\n",
        "\n",
        "$$\n",
        "f(\\boldsymbol{\\xi}, \\theta) = \\frac{1}{2} \\boldsymbol{\\xi} \\cdot \\boldsymbol{H}(\\theta) \\boldsymbol{\\xi}\n",
        "- \\boldsymbol{b} \\cdot \\boldsymbol{\\xi}\n",
        "$$\n",
        "\n",
        "where\n",
        "\n",
        "$$\n",
        "\\begin{aligned}\n",
        "    \\boldsymbol{\\xi} \\quad & \\textrm{ is a vector containing the optimization variables, } \\\\\n",
        "    \\theta \\quad & \\textrm{ is a random variable, } \\\\\n",
        "    f(\\boldsymbol{\\xi}, \\theta) \\quad & \\textrm{ is a function whose expectation wrt } \\theta \\textrm{ is to be minimized, } \\\\\n",
        "    \\boldsymbol{H}(\\theta) \\quad & \\textrm{ is the Hessian matrix, } \\\\\n",
        "    \\boldsymbol{b} \\quad & \\textrm{is a vector of the same dimension as } \\boldsymbol{\\xi}.\n",
        "    \\end{aligned}\n",
        "$$\n",
        "\n",
        "Here, we have a Hessian that is a convex combination of the identity matrix and of an arbitrary matrix:\n",
        "\n",
        "$$\n",
        "\\boldsymbol{H}(\\theta) =\n",
        "\\boldsymbol{I}_2(1 -\\theta) +\n",
        "\\begin{bmatrix}\n",
        "\\kappa & \\kappa-1 \\\\\n",
        "        \\kappa-1 & \\kappa\n",
        "\\end{bmatrix}\n",
        "\\theta,\n",
        "$$\n",
        "\n",
        "noting that $\\theta$ is a random variable such that $\\theta \\sim \\mathcal{U}[0, 1]$\n",
        "and $\\kappa$ is the desired conditioning number of the expected value of the Hessian.\n",
        "Also, $\\boldsymbol{b}$ is a 2-dimensional vector with ones.\n",
        "\n",
        "To use the stochastic gradient method, we need the gradient of $f$ wrt $\\boldsymbol{\\xi}$:\n",
        "\n",
        "$$\n",
        "\\nabla_{\\boldsymbol{\\xi}} f(\\boldsymbol{\\xi}, \\theta) = \\boldsymbol{H}(\\theta) \\boldsymbol{\\xi} - \\boldsymbol{b}.\n",
        "$$\n",
        "\n",
        "First, let's install both MICE and BayHess from PyPI using pip."
      ]
    },
    {
      "cell_type": "code",
      "execution_count": null,
      "metadata": {
        "id": "2AmhGKI2-dd7",
        "outputId": "d6597f95-1b1d-4d50-94a9-31cb074c97db"
      },
      "outputs": [
        {
          "name": "stdout",
          "output_type": "stream",
          "text": [
            "Requirement already satisfied: mice in /home/andre/miniconda3/envs/p39/lib/python3.9/site-packages (0.1.27)\n",
            "Requirement already satisfied: matplotlib>=3.2.0 in /home/andre/miniconda3/envs/p39/lib/python3.9/site-packages (from mice) (3.4.2)\n",
            "Requirement already satisfied: pandas>=1.1 in /home/andre/miniconda3/envs/p39/lib/python3.9/site-packages (from mice) (1.3.2)\n",
            "Requirement already satisfied: numpy>=1.19 in /home/andre/miniconda3/envs/p39/lib/python3.9/site-packages (from mice) (1.20.3)\n",
            "Requirement already satisfied: scipy>=1.8.1 in /home/andre/miniconda3/envs/p39/lib/python3.9/site-packages (from mice) (1.8.1)\n",
            "Requirement already satisfied: pillow>=6.2.0 in /home/andre/miniconda3/envs/p39/lib/python3.9/site-packages (from matplotlib>=3.2.0->mice) (9.2.0)\n",
            "Requirement already satisfied: python-dateutil>=2.7 in /home/andre/miniconda3/envs/p39/lib/python3.9/site-packages (from matplotlib>=3.2.0->mice) (2.8.2)\n",
            "Requirement already satisfied: cycler>=0.10 in /home/andre/miniconda3/envs/p39/lib/python3.9/site-packages (from matplotlib>=3.2.0->mice) (0.11.0)\n",
            "Requirement already satisfied: pyparsing>=2.2.1 in /home/andre/miniconda3/envs/p39/lib/python3.9/site-packages (from matplotlib>=3.2.0->mice) (3.0.4)\n",
            "Requirement already satisfied: kiwisolver>=1.0.1 in /home/andre/miniconda3/envs/p39/lib/python3.9/site-packages (from matplotlib>=3.2.0->mice) (1.4.2)\n",
            "Requirement already satisfied: pytz>=2017.3 in /home/andre/miniconda3/envs/p39/lib/python3.9/site-packages (from pandas>=1.1->mice) (2022.1)\n",
            "Requirement already satisfied: six>=1.5 in /home/andre/miniconda3/envs/p39/lib/python3.9/site-packages (from python-dateutil>=2.7->matplotlib>=3.2.0->mice) (1.16.0)\n",
            "Note: you may need to restart the kernel to use updated packages.\n",
            "Requirement already satisfied: bayhess in /home/andre/miniconda3/envs/p39/lib/python3.9/site-packages (0.1.2)\n",
            "Requirement already satisfied: numpy>=1.19 in /home/andre/miniconda3/envs/p39/lib/python3.9/site-packages (from bayhess) (1.20.3)\n",
            "Requirement already satisfied: scipy>=1.7.1 in /home/andre/miniconda3/envs/p39/lib/python3.9/site-packages (from bayhess) (1.8.1)\n",
            "Note: you may need to restart the kernel to use updated packages.\n"
          ]
        }
      ],
      "source": [
        "%pip install -U mice\n",
        "%pip install -U bayhess"
      ]
    },
    {
      "cell_type": "markdown",
      "metadata": {
        "id": "p90Ziqwd-dd9"
      },
      "source": [
        "To use MICE to estimate $\\nabla_{\\boldsymbol{\\xi}} f$, we need to import the MICE class and NumPy to assist us in\n",
        "defining our problem. We also import the BayHess class to be used soon."
      ]
    },
    {
      "cell_type": "code",
      "execution_count": null,
      "metadata": {
        "id": "Oyf1IPOy9XAA"
      },
      "outputs": [],
      "source": [
        "\n",
        "import matplotlib.pyplot as plt\n",
        "import numpy as np\n",
        "from numpy.linalg import solve, norm\n",
        "from mice import MICE, plot_mice\n",
        "from bayhess import BayHess"
      ]
    },
    {
      "cell_type": "markdown",
      "metadata": {
        "collapsed": true,
        "id": "0VVXplSp9XAC",
        "jupyter": {
          "outputs_hidden": false,
          "source_hidden": false
        },
        "nteract": {
          "transient": {
            "deleting": false
          }
        }
      },
      "source": [
        "Then, we need to define $\\nabla_{\\boldsymbol{\\xi}} f$ as a function of $\\boldsymbol{\\xi}$ and an array representing a sample of $\\theta$."
      ]
    },
    {
      "cell_type": "code",
      "execution_count": null,
      "metadata": {
        "id": "krCvP3Zc9XAC"
      },
      "outputs": [],
      "source": [
        "kappa = 100\n",
        "H_aux = np.array([[kappa, kappa-1], [kappa-1, kappa]])\n",
        "true_hess = np.array([[kappa+1, kappa-1], [kappa-1, kappa+1]])/2\n",
        "b = np.ones(2)\n",
        "\n",
        "\n",
        "def dobjf(x, thetas):\n",
        "    gradients = []\n",
        "    for theta in thetas:\n",
        "        H = np.eye(2) * (1 - theta) + H_aux * theta\n",
        "        gradients.append(H @ x.T - b)\n",
        "    return np.vstack(gradients)"
      ]
    },
    {
      "cell_type": "markdown",
      "metadata": {
        "id": "q__y_Ynp9XAD"
      },
      "source": [
        "As for $\\theta$, we can pass to MICE either a sampler function that takes the desired sample size as input and returns the sample\n",
        "or a list/array containing the data.\n",
        "Here, we will define a function that returns the uniform sample between 0 and 1,"
      ]
    },
    {
      "cell_type": "code",
      "execution_count": null,
      "metadata": {
        "id": "CdHcRIwv9XAE"
      },
      "outputs": [],
      "source": [
        "def sampler(n):\n",
        "    return np.random.uniform(0, 1, int(n))"
      ]
    },
    {
      "cell_type": "markdown",
      "metadata": {
        "id": "yzrlqACd9XAF"
      },
      "source": [
        "Now, let's create an instance of MICE to solve this optimization problem with tolerance to statistical error of $\\epsilon=0.7$,\n",
        "maximum cost of $10,000$ evaluations of $\\nabla_{\\boldsymbol{\\xi}} f$, and a minimum batch size of $5$."
      ]
    },
    {
      "cell_type": "code",
      "execution_count": null,
      "metadata": {
        "id": "neQcr2Kp9XAG"
      },
      "outputs": [],
      "source": [
        "df = MICE(dobjf,\n",
        "          sampler=sampler,\n",
        "          eps=.7,\n",
        "          min_batch=5,\n",
        "          stop_crit_norm=0.1)"
      ]
    },
    {
      "cell_type": "markdown",
      "metadata": {
        "id": "fL6k8kcg9XAH"
      },
      "source": [
        "To perform optimization, we need to set a starting point and a step size. \n",
        "Here, we know both the $L$-smoothness and the $\\mu$-convexity parameters of the problem, thus we can set the step size optimally."
      ]
    },
    {
      "cell_type": "code",
      "execution_count": null,
      "metadata": {
        "id": "oOzTl4WS9XAI"
      },
      "outputs": [],
      "source": [
        "x = np.array([20., 50.])\n",
        "L = kappa\n",
        "mu = 1\n",
        "step_size = 2 / (L + mu) / (1 + df.eps ** 2)"
      ]
    },
    {
      "cell_type": "markdown",
      "metadata": {
        "id": "tFXwv_Ez9XAI"
      },
      "source": [
        "and, finally, we iterate until MICE's cost is reached, in which case df.terminate returns True,"
      ]
    },
    {
      "cell_type": "code",
      "execution_count": null,
      "metadata": {
        "id": "yLfbFvi_9XAJ"
      },
      "outputs": [],
      "source": [
        "while True:\n",
        "    grad = df(x)\n",
        "    if df.terminate:\n",
        "        break\n",
        "    x = x - step_size * grad"
      ]
    },
    {
      "cell_type": "markdown",
      "metadata": {
        "id": "mM_n5leA9XAJ"
      },
      "source": [
        "The method get_log returns a Pandas DataFrame with the information of what happened each iteration"
      ]
    },
    {
      "cell_type": "code",
      "execution_count": null,
      "metadata": {
        "id": "hNc7Gs8m-deB",
        "outputId": "594fda76-ee1e-4e78-c50c-831c9ccc8a43"
      },
      "outputs": [
        {
          "data": {
            "text/html": [
              "<div>\n",
              "<style scoped>\n",
              "    .dataframe tbody tr th:only-of-type {\n",
              "        vertical-align: middle;\n",
              "    }\n",
              "\n",
              "    .dataframe tbody tr th {\n",
              "        vertical-align: top;\n",
              "    }\n",
              "\n",
              "    .dataframe thead th {\n",
              "        text-align: right;\n",
              "    }\n",
              "</style>\n",
              "<table border=\"1\" class=\"dataframe\">\n",
              "  <thead>\n",
              "    <tr style=\"text-align: right;\">\n",
              "      <th></th>\n",
              "      <th>event</th>\n",
              "      <th>num_grads</th>\n",
              "      <th>vl</th>\n",
              "      <th>bias_rel_err</th>\n",
              "      <th>grad_norm</th>\n",
              "      <th>iteration</th>\n",
              "      <th>hier_length</th>\n",
              "    </tr>\n",
              "  </thead>\n",
              "  <tbody>\n",
              "    <tr>\n",
              "      <th>0</th>\n",
              "      <td>start</td>\n",
              "      <td>50</td>\n",
              "      <td>6.588308e+06</td>\n",
              "      <td>0.000000</td>\n",
              "      <td>4695.389187</td>\n",
              "      <td>1</td>\n",
              "      <td>1</td>\n",
              "    </tr>\n",
              "    <tr>\n",
              "      <th>1</th>\n",
              "      <td>MICE</td>\n",
              "      <td>326</td>\n",
              "      <td>1.375789e+07</td>\n",
              "      <td>0.102251</td>\n",
              "      <td>1227.318777</td>\n",
              "      <td>2</td>\n",
              "      <td>2</td>\n",
              "    </tr>\n",
              "    <tr>\n",
              "      <th>2</th>\n",
              "      <td>dropped</td>\n",
              "      <td>494</td>\n",
              "      <td>6.215808e+05</td>\n",
              "      <td>0.323431</td>\n",
              "      <td>967.609250</td>\n",
              "      <td>3</td>\n",
              "      <td>3</td>\n",
              "    </tr>\n",
              "    <tr>\n",
              "      <th>3</th>\n",
              "      <td>restart</td>\n",
              "      <td>564</td>\n",
              "      <td>3.010972e+05</td>\n",
              "      <td>0.000000</td>\n",
              "      <td>876.481800</td>\n",
              "      <td>4</td>\n",
              "      <td>1</td>\n",
              "    </tr>\n",
              "    <tr>\n",
              "      <th>4</th>\n",
              "      <td>dropped</td>\n",
              "      <td>584</td>\n",
              "      <td>3.173592e+05</td>\n",
              "      <td>0.135645</td>\n",
              "      <td>545.465263</td>\n",
              "      <td>5</td>\n",
              "      <td>2</td>\n",
              "    </tr>\n",
              "    <tr>\n",
              "      <th>...</th>\n",
              "      <td>...</td>\n",
              "      <td>...</td>\n",
              "      <td>...</td>\n",
              "      <td>...</td>\n",
              "      <td>...</td>\n",
              "      <td>...</td>\n",
              "      <td>...</td>\n",
              "    </tr>\n",
              "    <tr>\n",
              "      <th>404</th>\n",
              "      <td>dropped</td>\n",
              "      <td>12330</td>\n",
              "      <td>1.101072e-04</td>\n",
              "      <td>0.663222</td>\n",
              "      <td>0.095459</td>\n",
              "      <td>405</td>\n",
              "      <td>10</td>\n",
              "    </tr>\n",
              "    <tr>\n",
              "      <th>405</th>\n",
              "      <td>dropped</td>\n",
              "      <td>12370</td>\n",
              "      <td>2.859101e-05</td>\n",
              "      <td>0.645569</td>\n",
              "      <td>0.094172</td>\n",
              "      <td>406</td>\n",
              "      <td>10</td>\n",
              "    </tr>\n",
              "    <tr>\n",
              "      <th>406</th>\n",
              "      <td>dropped</td>\n",
              "      <td>12400</td>\n",
              "      <td>6.243965e-05</td>\n",
              "      <td>0.650190</td>\n",
              "      <td>0.094283</td>\n",
              "      <td>407</td>\n",
              "      <td>10</td>\n",
              "    </tr>\n",
              "    <tr>\n",
              "      <th>407</th>\n",
              "      <td>dropped</td>\n",
              "      <td>12440</td>\n",
              "      <td>4.125492e-05</td>\n",
              "      <td>0.650354</td>\n",
              "      <td>0.091576</td>\n",
              "      <td>408</td>\n",
              "      <td>10</td>\n",
              "    </tr>\n",
              "    <tr>\n",
              "      <th>408</th>\n",
              "      <td>end</td>\n",
              "      <td>12480</td>\n",
              "      <td>4.103791e-05</td>\n",
              "      <td>0.648924</td>\n",
              "      <td>0.090381</td>\n",
              "      <td>409</td>\n",
              "      <td>10</td>\n",
              "    </tr>\n",
              "  </tbody>\n",
              "</table>\n",
              "<p>409 rows × 7 columns</p>\n",
              "</div>"
            ],
            "text/plain": [
              "       event  num_grads            vl  bias_rel_err    grad_norm  iteration  \\\n",
              "0      start         50  6.588308e+06      0.000000  4695.389187          1   \n",
              "1       MICE        326  1.375789e+07      0.102251  1227.318777          2   \n",
              "2    dropped        494  6.215808e+05      0.323431   967.609250          3   \n",
              "3    restart        564  3.010972e+05      0.000000   876.481800          4   \n",
              "4    dropped        584  3.173592e+05      0.135645   545.465263          5   \n",
              "..       ...        ...           ...           ...          ...        ...   \n",
              "404  dropped      12330  1.101072e-04      0.663222     0.095459        405   \n",
              "405  dropped      12370  2.859101e-05      0.645569     0.094172        406   \n",
              "406  dropped      12400  6.243965e-05      0.650190     0.094283        407   \n",
              "407  dropped      12440  4.125492e-05      0.650354     0.091576        408   \n",
              "408      end      12480  4.103791e-05      0.648924     0.090381        409   \n",
              "\n",
              "     hier_length  \n",
              "0              1  \n",
              "1              2  \n",
              "2              3  \n",
              "3              1  \n",
              "4              2  \n",
              "..           ...  \n",
              "404           10  \n",
              "405           10  \n",
              "406           10  \n",
              "407           10  \n",
              "408           10  \n",
              "\n",
              "[409 rows x 7 columns]"
            ]
          },
          "execution_count": 26,
          "metadata": {},
          "output_type": "execute_result"
        }
      ],
      "source": [
        "log = df.get_log()\n",
        "log"
      ]
    },
    {
      "cell_type": "markdown",
      "metadata": {
        "id": "WFMZXRUU-deB"
      },
      "source": [
        "Now, let's plot the convergence of the norm of MICE's gradient estimates from the log DataFrame using the built-in plot_mice function."
      ]
    },
    {
      "cell_type": "code",
      "execution_count": null,
      "metadata": {
        "colab": {
          "base_uri": "https://localhost:8080/",
          "height": 354
        },
        "id": "gnRLzwsH9XAK",
        "outputId": "4fb2a412-3986-4bb7-d02e-0ca4b273715c"
      },
      "outputs": [
        {
          "data": {
            "text/plain": [
              "<matplotlib.legend.Legend at 0x7fd955869fa0>"
            ]
          },
          "execution_count": 27,
          "metadata": {},
          "output_type": "execute_result"
        },
        {
          "data": {
            "image/png": "[encoded data removed]",
            "text/plain": [
              "<Figure size 432x360 with 1 Axes>"
            ]
          },
          "metadata": {
            "needs_background": "light"
          },
          "output_type": "display_data"
        }
      ],
      "source": [
        "fig, ax = plt.subplots(figsize=(6, 5))\n",
        "ax = plot_mice(log, ax, 'iteration', 'grad_norm', style='semilogy')\n",
        "ax.axhline(df.stop_crit_norm, ls='--', c='k', label='Gradient norm tolerance')\n",
        "ax.set_xlabel('Iteration')\n",
        "ax.set_ylabel('Norm of estimate')\n",
        "ax.legend()"
      ]
    },
    {
      "cell_type": "markdown",
      "metadata": {
        "id": "lR1DUhsq-deC"
      },
      "source": [
        "Note that SGD-MICE required 411 iterations to reach the gradient norm tolerance. Let's use BayHess to obtain a Hessian approximation and pre-condition the gradient with its inverse. Before, we will create another instance of MICE."
      ]
    },
    {
      "cell_type": "code",
      "execution_count": null,
      "metadata": {
        "id": "X0-MPgjW-deC"
      },
      "outputs": [],
      "source": [
        "df_ = MICE(dobjf,\n",
        "          sampler=sampler,\n",
        "          eps=.7,\n",
        "          min_batch=5,\n",
        "          stop_crit_norm=0.1)"
      ]
    },
    {
      "cell_type": "markdown",
      "metadata": {
        "id": "bQJAwgxS-deC"
      },
      "source": [
        "And now, an instance of BayHess with $\\beta=10^{-2}$ and $\\rho=10^{-2}$."
      ]
    },
    {
      "cell_type": "code",
      "execution_count": null,
      "metadata": {
        "id": "kdwA1uW8-deC"
      },
      "outputs": [],
      "source": [
        "bay = BayHess(n_dim=2, strong_conv=1, smooth=kappa,\n",
        "              penal=1e-2, reg_param=1e-2)"
      ]
    },
    {
      "cell_type": "markdown",
      "metadata": {
        "id": "qGKo8JAy-deD"
      },
      "source": [
        "Setting the same startin point as for SGD-MICE and a corresponding step size of $1/(1 + \\epsilon^2)$,"
      ]
    },
    {
      "cell_type": "code",
      "execution_count": null,
      "metadata": {
        "id": "mOcJPkx1-deD"
      },
      "outputs": [],
      "source": [
        "x = np.array([20., 50.])\n",
        "step_size = 1 / (1 + df.eps ** 2)"
      ]
    },
    {
      "cell_type": "markdown",
      "metadata": {
        "id": "u2bwxLui-deD"
      },
      "source": [
        "we can perform optimization using SGD-MICE-Bay."
      ]
    },
    {
      "cell_type": "code",
      "execution_count": null,
      "metadata": {
        "id": "gifnultZ-deD"
      },
      "outputs": [],
      "source": [
        "while True:\n",
        "    grad = df_.evaluate(x)\n",
        "    bay.update_curv_pairs_mice(df_, x)\n",
        "    if not df_.k % 3:\n",
        "        bay.find_hess()\n",
        "    if df_.terminate:\n",
        "        break\n",
        "    x = x - step_size * solve(bay.hess, grad)"
      ]
    },
    {
      "cell_type": "markdown",
      "metadata": {
        "id": "CZrHsB7g-deD"
      },
      "source": [
        "Similarly to what we have done before, we can check MICE's log"
      ]
    },
    {
      "cell_type": "code",
      "execution_count": null,
      "metadata": {
        "id": "MRFVCkAs-deD",
        "outputId": "deafb1d0-c5ab-40f5-9592-565b02514703"
      },
      "outputs": [
        {
          "data": {
            "text/html": [
              "<div>\n",
              "<style scoped>\n",
              "    .dataframe tbody tr th:only-of-type {\n",
              "        vertical-align: middle;\n",
              "    }\n",
              "\n",
              "    .dataframe tbody tr th {\n",
              "        vertical-align: top;\n",
              "    }\n",
              "\n",
              "    .dataframe thead th {\n",
              "        text-align: right;\n",
              "    }\n",
              "</style>\n",
              "<table border=\"1\" class=\"dataframe\">\n",
              "  <thead>\n",
              "    <tr style=\"text-align: right;\">\n",
              "      <th></th>\n",
              "      <th>event</th>\n",
              "      <th>num_grads</th>\n",
              "      <th>vl</th>\n",
              "      <th>bias_rel_err</th>\n",
              "      <th>grad_norm</th>\n",
              "      <th>iteration</th>\n",
              "      <th>hier_length</th>\n",
              "    </tr>\n",
              "  </thead>\n",
              "  <tbody>\n",
              "    <tr>\n",
              "      <th>0</th>\n",
              "      <td>start</td>\n",
              "      <td>50</td>\n",
              "      <td>8.206547e+06</td>\n",
              "      <td>0.000000</td>\n",
              "      <td>4358.977188</td>\n",
              "      <td>1</td>\n",
              "      <td>1</td>\n",
              "    </tr>\n",
              "    <tr>\n",
              "      <th>1</th>\n",
              "      <td>restart</td>\n",
              "      <td>110</td>\n",
              "      <td>2.305343e+05</td>\n",
              "      <td>0.000000</td>\n",
              "      <td>913.121963</td>\n",
              "      <td>2</td>\n",
              "      <td>1</td>\n",
              "    </tr>\n",
              "    <tr>\n",
              "      <th>2</th>\n",
              "      <td>dropped</td>\n",
              "      <td>200</td>\n",
              "      <td>4.531934e+05</td>\n",
              "      <td>0.228281</td>\n",
              "      <td>283.607233</td>\n",
              "      <td>3</td>\n",
              "      <td>2</td>\n",
              "    </tr>\n",
              "    <tr>\n",
              "      <th>3</th>\n",
              "      <td>restart</td>\n",
              "      <td>270</td>\n",
              "      <td>9.738793e+03</td>\n",
              "      <td>0.000000</td>\n",
              "      <td>173.316025</td>\n",
              "      <td>4</td>\n",
              "      <td>1</td>\n",
              "    </tr>\n",
              "    <tr>\n",
              "      <th>4</th>\n",
              "      <td>dropped</td>\n",
              "      <td>302</td>\n",
              "      <td>5.558856e+03</td>\n",
              "      <td>0.248118</td>\n",
              "      <td>53.630654</td>\n",
              "      <td>5</td>\n",
              "      <td>2</td>\n",
              "    </tr>\n",
              "    <tr>\n",
              "      <th>5</th>\n",
              "      <td>restart</td>\n",
              "      <td>372</td>\n",
              "      <td>2.414530e+02</td>\n",
              "      <td>0.000000</td>\n",
              "      <td>30.321476</td>\n",
              "      <td>6</td>\n",
              "      <td>1</td>\n",
              "    </tr>\n",
              "    <tr>\n",
              "      <th>6</th>\n",
              "      <td>dropped</td>\n",
              "      <td>382</td>\n",
              "      <td>7.639652e+01</td>\n",
              "      <td>0.122466</td>\n",
              "      <td>17.108728</td>\n",
              "      <td>7</td>\n",
              "      <td>2</td>\n",
              "    </tr>\n",
              "    <tr>\n",
              "      <th>7</th>\n",
              "      <td>dropped</td>\n",
              "      <td>402</td>\n",
              "      <td>1.583018e+02</td>\n",
              "      <td>0.160855</td>\n",
              "      <td>13.025718</td>\n",
              "      <td>8</td>\n",
              "      <td>2</td>\n",
              "    </tr>\n",
              "    <tr>\n",
              "      <th>8</th>\n",
              "      <td>dropped</td>\n",
              "      <td>442</td>\n",
              "      <td>2.286118e+02</td>\n",
              "      <td>0.257132</td>\n",
              "      <td>8.148506</td>\n",
              "      <td>9</td>\n",
              "      <td>2</td>\n",
              "    </tr>\n",
              "    <tr>\n",
              "      <th>9</th>\n",
              "      <td>restart</td>\n",
              "      <td>512</td>\n",
              "      <td>6.888974e+00</td>\n",
              "      <td>0.000000</td>\n",
              "      <td>4.512811</td>\n",
              "      <td>10</td>\n",
              "      <td>1</td>\n",
              "    </tr>\n",
              "    <tr>\n",
              "      <th>10</th>\n",
              "      <td>dropped</td>\n",
              "      <td>532</td>\n",
              "      <td>2.132636e+00</td>\n",
              "      <td>0.261287</td>\n",
              "      <td>1.354497</td>\n",
              "      <td>11</td>\n",
              "      <td>2</td>\n",
              "    </tr>\n",
              "    <tr>\n",
              "      <th>11</th>\n",
              "      <td>restart</td>\n",
              "      <td>602</td>\n",
              "      <td>1.113125e+00</td>\n",
              "      <td>0.000000</td>\n",
              "      <td>0.679711</td>\n",
              "      <td>12</td>\n",
              "      <td>1</td>\n",
              "    </tr>\n",
              "    <tr>\n",
              "      <th>12</th>\n",
              "      <td>dropped</td>\n",
              "      <td>672</td>\n",
              "      <td>2.213795e-02</td>\n",
              "      <td>0.257727</td>\n",
              "      <td>0.281719</td>\n",
              "      <td>13</td>\n",
              "      <td>2</td>\n",
              "    </tr>\n",
              "    <tr>\n",
              "      <th>13</th>\n",
              "      <td>end</td>\n",
              "      <td>1113</td>\n",
              "      <td>6.260119e-01</td>\n",
              "      <td>0.000000</td>\n",
              "      <td>0.058472</td>\n",
              "      <td>14</td>\n",
              "      <td>1</td>\n",
              "    </tr>\n",
              "  </tbody>\n",
              "</table>\n",
              "</div>"
            ],
            "text/plain": [
              "      event  num_grads            vl  bias_rel_err    grad_norm  iteration  \\\n",
              "0     start         50  8.206547e+06      0.000000  4358.977188          1   \n",
              "1   restart        110  2.305343e+05      0.000000   913.121963          2   \n",
              "2   dropped        200  4.531934e+05      0.228281   283.607233          3   \n",
              "3   restart        270  9.738793e+03      0.000000   173.316025          4   \n",
              "4   dropped        302  5.558856e+03      0.248118    53.630654          5   \n",
              "5   restart        372  2.414530e+02      0.000000    30.321476          6   \n",
              "6   dropped        382  7.639652e+01      0.122466    17.108728          7   \n",
              "7   dropped        402  1.583018e+02      0.160855    13.025718          8   \n",
              "8   dropped        442  2.286118e+02      0.257132     8.148506          9   \n",
              "9   restart        512  6.888974e+00      0.000000     4.512811         10   \n",
              "10  dropped        532  2.132636e+00      0.261287     1.354497         11   \n",
              "11  restart        602  1.113125e+00      0.000000     0.679711         12   \n",
              "12  dropped        672  2.213795e-02      0.257727     0.281719         13   \n",
              "13      end       1113  6.260119e-01      0.000000     0.058472         14   \n",
              "\n",
              "    hier_length  \n",
              "0             1  \n",
              "1             1  \n",
              "2             2  \n",
              "3             1  \n",
              "4             2  \n",
              "5             1  \n",
              "6             2  \n",
              "7             2  \n",
              "8             2  \n",
              "9             1  \n",
              "10            2  \n",
              "11            1  \n",
              "12            2  \n",
              "13            1  "
            ]
          },
          "execution_count": 32,
          "metadata": {},
          "output_type": "execute_result"
        }
      ],
      "source": [
        "log_ = df_.get_log()\n",
        "log_"
      ]
    },
    {
      "cell_type": "markdown",
      "metadata": {
        "id": "8jyKSyRQ-deE"
      },
      "source": [
        "And make a convergence plot."
      ]
    },
    {
      "cell_type": "code",
      "execution_count": null,
      "metadata": {
        "id": "3ntZIl-1-deE",
        "outputId": "9004e584-69a7-4030-f18d-a47249e28590"
      },
      "outputs": [
        {
          "data": {
            "text/plain": [
              "<matplotlib.legend.Legend at 0x7fd9557a0f70>"
            ]
          },
          "execution_count": 33,
          "metadata": {},
          "output_type": "execute_result"
        },
        {
          "data": {
            "image/png": "[encoded data removed]",
            "text/plain": [
              "<Figure size 432x360 with 1 Axes>"
            ]
          },
          "metadata": {
            "needs_background": "light"
          },
          "output_type": "display_data"
        }
      ],
      "source": [
        "fig, ax = plt.subplots(figsize=(6, 5))\n",
        "ax = plot_mice(log_, ax, 'iteration', 'grad_norm', style='semilogy')\n",
        "ax.axhline(df_.stop_crit_norm, ls='--', c='k', label='Gradient norm tolerance')\n",
        "ax.set_xlabel('Iteration')\n",
        "ax.set_ylabel('Norm of estimate')\n",
        "ax.legend()"
      ]
    },
    {
      "cell_type": "markdown",
      "metadata": {
        "id": "2k2Pg5mD-deE"
      },
      "source": [
        "To better illustrate the difference, let's make a convergence plot comparing SGD-MICE with and without the Bayesian Hessian pre-conditioning."
      ]
    },
    {
      "cell_type": "code",
      "execution_count": null,
      "metadata": {
        "id": "bK_DSvHi-deE",
        "outputId": "85479976-e877-4961-8052-948b7588bc00"
      },
      "outputs": [
        {
          "data": {
            "text/plain": [
              "<matplotlib.legend.Legend at 0x7fd9555f5f70>"
            ]
          },
          "execution_count": 34,
          "metadata": {},
          "output_type": "execute_result"
        },
        {
          "data": {
            "image/png": "[encoded data removed]",
            "text/plain": [
              "<Figure size 432x360 with 1 Axes>"
            ]
          },
          "metadata": {
            "needs_background": "light"
          },
          "output_type": "display_data"
        }
      ],
      "source": [
        "fig, ax = plt.subplots(figsize=(6, 5))\n",
        "ax.semilogy(log[\"grad_norm\"], label=\"SGD-MICE\")\n",
        "ax.semilogy(log_[\"grad_norm\"], label=\"SGD-MICE-Bay\")\n",
        "ax.axhline(df_.stop_crit_norm, ls='--', c='k', label='Gradient norm tolerance')\n",
        "ax.set_xlabel('Iteration')\n",
        "ax.set_ylabel('Norm of estimate')\n",
        "ax.legend()"
      ]
    },
    {
      "cell_type": "markdown",
      "metadata": {
        "id": "XlWifgZT-deE"
      },
      "source": [
        "Still, due to MICE's adaptive control of the relative statistical error, the number of gradient evaluations changes per iteration. Let's take a look at the convergence versus the number of gradient evaluations."
      ]
    },
    {
      "cell_type": "code",
      "execution_count": null,
      "metadata": {
        "id": "Om4WZUhA-deE",
        "outputId": "5b52b277-40b9-4f11-d42b-fbc76c6de924"
      },
      "outputs": [
        {
          "data": {
            "text/plain": [
              "<matplotlib.legend.Legend at 0x7fd955af0610>"
            ]
          },
          "execution_count": 35,
          "metadata": {},
          "output_type": "execute_result"
        },
        {
          "data": {
            "image/png": "[encoded data removed]",
            "text/plain": [
              "<Figure size 432x360 with 1 Axes>"
            ]
          },
          "metadata": {
            "needs_background": "light"
          },
          "output_type": "display_data"
        }
      ],
      "source": [
        "fig, ax = plt.subplots(figsize=(6, 5))\n",
        "ax.loglog(log[\"num_grads\"], log[\"grad_norm\"], label=\"SGD-MICE\")\n",
        "ax.loglog(log_[\"num_grads\"], log_[\"grad_norm\"], label=\"SGD-MICE-Bay\")\n",
        "ax.axhline(df_.stop_crit_norm, ls='--', c='k', label='Gradient norm tolerance')\n",
        "ax.set_xlabel('Gradient evaluations')\n",
        "ax.set_ylabel('Norm of estimate')\n",
        "ax.legend()"
      ]
    },
    {
      "cell_type": "markdown",
      "metadata": {
        "id": "nZM29yn_-deE"
      },
      "source": [
        "Using the Hessian approximation from BayHess resulted in a dramatic reduction in the cost of achieving the desired tolerance. \n"
      ]
    },
    {
      "cell_type": "code",
      "execution_count": null,
      "metadata": {
        "id": "mmkXZSWO-deF",
        "outputId": "01c7bdec-2c8d-4a50-9bc6-b13665948e8e"
      },
      "outputs": [
        {
          "name": "stdout",
          "output_type": "stream",
          "text": [
            "BayHess reduced the overall cost in 91.082 %\n"
          ]
        }
      ],
      "source": [
        "reduction = (log[\"num_grads\"].max() - log_[\"num_grads\"].max()) / log[\"num_grads\"].max()*100\n",
        "print(f\"BayHess reduced the overall cost in {reduction:.3f} %\")"
      ]
    }
  ],
  "metadata": {
    "colab": {
      "collapsed_sections": [],
      "name": "getting_started_bayhess.ipynb",
      "provenance": []
    },
    "kernelspec": {
      "display_name": "Python 3",
      "language": "python",
      "name": "python3"
    },
    "language_info": {
      "codemirror_mode": {
        "name": "ipython",
        "version": 3
      },
      "file_extension": ".py",
      "mimetype": "text/x-python",
      "name": "python",
      "nbconvert_exporter": "python",
      "pygments_lexer": "ipython3",
      "version": "3.8.10"
    },
    "vscode": {
      "interpreter": {
        "hash": "7000827a21dab89200a27ba1a36e236b9ff35ee373e11f5b6d30be3a565e86b3"
      }
    }
  },
  "nbformat": 4,
  "nbformat_minor": 0
}