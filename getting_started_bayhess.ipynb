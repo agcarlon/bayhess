{
  "cells": [
    {
      "cell_type": "markdown",
      "metadata": {
        "id": "view-in-github",
        "colab_type": "text"
      },
      "source": [
        "<a href=\"https://colab.research.google.com/github/agcarlon/bayhess/blob/main/getting_started_bayhess.ipynb\" target=\"_parent\"><img src=\"https://colab.research.google.com/assets/colab-badge.svg\" alt=\"Open In Colab\"/></a>"
      ]
    },
    {
      "cell_type": "markdown",
      "metadata": {
        "collapsed": true,
        "id": "fbNXzKJY9W_8",
        "jupyter": {
          "outputs_hidden": false,
          "source_hidden": false
        },
        "nteract": {
          "transient": {
            "deleting": false
          }
        }
      },
      "source": [
        "# Getting started"
      ]
    },
    {
      "cell_type": "markdown",
      "metadata": {
        "id": "aNvL8cge8zk_"
      },
      "source": [
        "*Run this example in* [colab](https://colab.research.google.com/drive/16tEQBo8GzqehT8fRoiuTA7uHF7zyIRZ4)!"
      ]
    },
    {
      "cell_type": "markdown",
      "metadata": {
        "id": "pJqgVMV09W_-"
      },
      "source": [
        "In this example, we use the BayHess package to assist MICE in minimizing a quadratic function. Let the quadratic function $f$ to minimized be\n",
        "\n",
        "$$\n",
        "f(\\boldsymbol{\\xi}, \\theta) = \\frac{1}{2} \\boldsymbol{\\xi} \\cdot \\boldsymbol{H}(\\theta) \\boldsymbol{\\xi}\n",
        "- \\boldsymbol{b} \\cdot \\boldsymbol{\\xi}\n",
        "$$\n",
        "\n",
        "where\n",
        "\n",
        "$$\n",
        "\\begin{aligned}\n",
        "    \\boldsymbol{\\xi} \\quad & \\textrm{ is a vector containing the optimization variables, } \\\\\n",
        "    \\theta \\quad & \\textrm{ is a random variable, } \\\\\n",
        "    f(\\boldsymbol{\\xi}, \\theta) \\quad & \\textrm{ is a function whose expectation wrt } \\theta \\textrm{ is to be minimized, } \\\\\n",
        "    \\boldsymbol{H}(\\theta) \\quad & \\textrm{ is the Hessian matrix, } \\\\\n",
        "    \\boldsymbol{b} \\quad & \\textrm{is a vector of the same dimension as } \\boldsymbol{\\xi}.\n",
        "    \\end{aligned}\n",
        "$$\n",
        "\n",
        "Here, we have a Hessian that is a convex combination of the identity matrix and of an arbitrary matrix:\n",
        "\n",
        "$$\n",
        "\\boldsymbol{H}(\\theta) =\n",
        "\\boldsymbol{I}_2(1 -\\theta) +\n",
        "\\begin{bmatrix}\n",
        "\\kappa & \\kappa-1 \\\\\n",
        "        \\kappa-1 & \\kappa\n",
        "\\end{bmatrix}\n",
        "\\theta,\n",
        "$$\n",
        "\n",
        "noting that $\\theta$ is a random variable such that $\\theta \\sim \\mathcal{U}[0, 1]$\n",
        "and $\\kappa$ is the desired conditioning number of the expected value of the Hessian.\n",
        "Also, $\\boldsymbol{b}$ is a 2-dimensional vector with ones.\n",
        "\n",
        "To use the stochastic gradient method, we need the gradient of $f$ wrt $\\boldsymbol{\\xi}$:\n",
        "\n",
        "$$\n",
        "\\nabla_{\\boldsymbol{\\xi}} f(\\boldsymbol{\\xi}, \\theta) = \\boldsymbol{H}(\\theta) \\boldsymbol{\\xi} - \\boldsymbol{b}.\n",
        "$$\n",
        "\n",
        "First, let's install both MICE and BayHess from PyPI using pip."
      ]
    },
    {
      "cell_type": "code",
      "execution_count": null,
      "metadata": {
        "id": "hGuftNVK8zlA",
        "outputId": "609adef2-1ca5-4af2-dd46-a60eebffd7b9"
      },
      "outputs": [
        {
          "name": "stdout",
          "output_type": "stream",
          "text": [
            "Requirement already satisfied: mice in /home/andre/miniconda3/envs/p39/lib/python3.9/site-packages (0.1.27)\n",
            "Requirement already satisfied: numpy>=1.19 in /home/andre/miniconda3/envs/p39/lib/python3.9/site-packages (from mice) (1.20.3)\n",
            "Requirement already satisfied: scipy>=1.8.1 in /home/andre/miniconda3/envs/p39/lib/python3.9/site-packages (from mice) (1.8.1)\n",
            "Requirement already satisfied: matplotlib>=3.2.0 in /home/andre/miniconda3/envs/p39/lib/python3.9/site-packages (from mice) (3.4.2)\n",
            "Requirement already satisfied: pandas>=1.1 in /home/andre/miniconda3/envs/p39/lib/python3.9/site-packages (from mice) (1.3.2)\n",
            "Requirement already satisfied: pillow>=6.2.0 in /home/andre/miniconda3/envs/p39/lib/python3.9/site-packages (from matplotlib>=3.2.0->mice) (9.2.0)\n",
            "Requirement already satisfied: kiwisolver>=1.0.1 in /home/andre/miniconda3/envs/p39/lib/python3.9/site-packages (from matplotlib>=3.2.0->mice) (1.4.2)\n",
            "Requirement already satisfied: python-dateutil>=2.7 in /home/andre/miniconda3/envs/p39/lib/python3.9/site-packages (from matplotlib>=3.2.0->mice) (2.8.2)\n",
            "Requirement already satisfied: pyparsing>=2.2.1 in /home/andre/miniconda3/envs/p39/lib/python3.9/site-packages (from matplotlib>=3.2.0->mice) (3.0.4)\n",
            "Requirement already satisfied: cycler>=0.10 in /home/andre/miniconda3/envs/p39/lib/python3.9/site-packages (from matplotlib>=3.2.0->mice) (0.11.0)\n",
            "Requirement already satisfied: pytz>=2017.3 in /home/andre/miniconda3/envs/p39/lib/python3.9/site-packages (from pandas>=1.1->mice) (2022.1)\n",
            "Requirement already satisfied: six>=1.5 in /home/andre/miniconda3/envs/p39/lib/python3.9/site-packages (from python-dateutil>=2.7->matplotlib>=3.2.0->mice) (1.16.0)\n",
            "Note: you may need to restart the kernel to use updated packages.\n",
            "Requirement already satisfied: bayhess in /home/andre/miniconda3/envs/p39/lib/python3.9/site-packages (0.1.2)\n",
            "Requirement already satisfied: numpy>=1.19 in /home/andre/miniconda3/envs/p39/lib/python3.9/site-packages (from bayhess) (1.20.3)\n",
            "Requirement already satisfied: scipy>=1.7.1 in /home/andre/miniconda3/envs/p39/lib/python3.9/site-packages (from bayhess) (1.8.1)\n",
            "Note: you may need to restart the kernel to use updated packages.\n"
          ]
        }
      ],
      "source": [
        "%pip install -U mice\n",
        "%pip install -U bayhess"
      ]
    },
    {
      "cell_type": "markdown",
      "metadata": {
        "id": "gI4yRzHD8zlC"
      },
      "source": [
        "To use MICE to estimate $\\nabla_{\\boldsymbol{\\xi}} f$, we need to import the MICE class and NumPy to assist us in\n",
        "defining our problem. We also import the BayHess class to be used soon."
      ]
    },
    {
      "cell_type": "code",
      "execution_count": null,
      "metadata": {
        "id": "Oyf1IPOy9XAA"
      },
      "outputs": [],
      "source": [
        "\n",
        "import matplotlib.pyplot as plt\n",
        "import numpy as np\n",
        "from numpy.linalg import solve, norm\n",
        "from mice import MICE, plot_mice\n",
        "from bayhess import BayHess"
      ]
    },
    {
      "cell_type": "markdown",
      "metadata": {
        "collapsed": true,
        "id": "0VVXplSp9XAC",
        "jupyter": {
          "outputs_hidden": false,
          "source_hidden": false
        },
        "nteract": {
          "transient": {
            "deleting": false
          }
        }
      },
      "source": [
        "Then, we need to define $\\nabla_{\\boldsymbol{\\xi}} f$ as a function of $\\boldsymbol{\\xi}$ and an array representing a sample of $\\theta$."
      ]
    },
    {
      "cell_type": "code",
      "execution_count": null,
      "metadata": {
        "id": "krCvP3Zc9XAC"
      },
      "outputs": [],
      "source": [
        "kappa = 100\n",
        "H_aux = np.array([[kappa, kappa-1], [kappa-1, kappa]])\n",
        "true_hess = np.array([[kappa+1, kappa-1], [kappa-1, kappa+1]])/2\n",
        "b = np.ones(2)\n",
        "\n",
        "\n",
        "def dobjf(x, thetas):\n",
        "    gradients = []\n",
        "    for theta in thetas:\n",
        "        H = np.eye(2) * (1 - theta) + H_aux * theta\n",
        "        gradients.append(H @ x.T - b)\n",
        "    return np.vstack(gradients)"
      ]
    },
    {
      "cell_type": "markdown",
      "metadata": {
        "id": "q__y_Ynp9XAD"
      },
      "source": [
        "As for $\\theta$, we can pass to MICE either a sampler function that takes the desired sample size as input and returns the sample\n",
        "or a list/array containing the data.\n",
        "Here, we will define a function that returns the uniform sample between 0 and 1,"
      ]
    },
    {
      "cell_type": "code",
      "execution_count": null,
      "metadata": {
        "id": "CdHcRIwv9XAE"
      },
      "outputs": [],
      "source": [
        "def sampler(n):\n",
        "    return np.random.uniform(0, 1, int(n))"
      ]
    },
    {
      "cell_type": "markdown",
      "metadata": {
        "id": "yzrlqACd9XAF"
      },
      "source": [
        "Now, let's create an instance of MICE to solve this optimization problem with tolerance to statistical error of $\\epsilon=0.7$,\n",
        "maximum cost of $10,000$ evaluations of $\\nabla_{\\boldsymbol{\\xi}} f$, and a minimum batch size of $5$."
      ]
    },
    {
      "cell_type": "code",
      "execution_count": null,
      "metadata": {
        "id": "neQcr2Kp9XAG"
      },
      "outputs": [],
      "source": [
        "df = MICE(dobjf,\n",
        "          sampler=sampler,\n",
        "          eps=.7,\n",
        "          min_batch=5,\n",
        "          stop_crit_norm=0.1)"
      ]
    },
    {
      "cell_type": "markdown",
      "metadata": {
        "id": "fL6k8kcg9XAH"
      },
      "source": [
        "To perform optimization, we need to set a starting point and a step size. \n",
        "Here, we know both the $L$-smoothness and the $\\mu$-convexity parameters of the problem, thus we can set the step size optimally."
      ]
    },
    {
      "cell_type": "code",
      "execution_count": null,
      "metadata": {
        "id": "oOzTl4WS9XAI"
      },
      "outputs": [],
      "source": [
        "x = np.array([20., 50.])\n",
        "L = kappa\n",
        "mu = 1\n",
        "step_size = 2 / (L + mu) / (1 + df.eps ** 2)"
      ]
    },
    {
      "cell_type": "markdown",
      "metadata": {
        "id": "tFXwv_Ez9XAI"
      },
      "source": [
        "and, finally, we iterate until MICE's cost is reached, in which case df.terminate returns True,"
      ]
    },
    {
      "cell_type": "code",
      "execution_count": null,
      "metadata": {
        "id": "yLfbFvi_9XAJ"
      },
      "outputs": [],
      "source": [
        "while True:\n",
        "    grad = df(x)\n",
        "    if df.terminate:\n",
        "        break\n",
        "    x = x - step_size * grad"
      ]
    },
    {
      "cell_type": "markdown",
      "metadata": {
        "id": "mM_n5leA9XAJ"
      },
      "source": [
        "The method get_log returns a Pandas DataFrame with the information of what happened each iteration"
      ]
    },
    {
      "cell_type": "code",
      "execution_count": null,
      "metadata": {
        "id": "nDkve5Ec8zlH",
        "outputId": "afcb3d2f-eb40-4b32-daad-bb7aa3895759"
      },
      "outputs": [
        {
          "data": {
            "text/html": [
              "<div>\n",
              "<style scoped>\n",
              "    .dataframe tbody tr th:only-of-type {\n",
              "        vertical-align: middle;\n",
              "    }\n",
              "\n",
              "    .dataframe tbody tr th {\n",
              "        vertical-align: top;\n",
              "    }\n",
              "\n",
              "    .dataframe thead th {\n",
              "        text-align: right;\n",
              "    }\n",
              "</style>\n",
              "<table border=\"1\" class=\"dataframe\">\n",
              "  <thead>\n",
              "    <tr style=\"text-align: right;\">\n",
              "      <th></th>\n",
              "      <th>event</th>\n",
              "      <th>num_grads</th>\n",
              "      <th>vl</th>\n",
              "      <th>bias_rel_err</th>\n",
              "      <th>grad_norm</th>\n",
              "      <th>iteration</th>\n",
              "      <th>hier_length</th>\n",
              "    </tr>\n",
              "  </thead>\n",
              "  <tbody>\n",
              "    <tr>\n",
              "      <th>0</th>\n",
              "      <td>start</td>\n",
              "      <td>50</td>\n",
              "      <td>8.325038e+06</td>\n",
              "      <td>0.000000</td>\n",
              "      <td>4929.233072</td>\n",
              "      <td>1</td>\n",
              "      <td>1</td>\n",
              "    </tr>\n",
              "    <tr>\n",
              "      <th>1</th>\n",
              "      <td>restart</td>\n",
              "      <td>110</td>\n",
              "      <td>9.323764e+05</td>\n",
              "      <td>0.000000</td>\n",
              "      <td>1692.175712</td>\n",
              "      <td>2</td>\n",
              "      <td>1</td>\n",
              "    </tr>\n",
              "    <tr>\n",
              "      <th>2</th>\n",
              "      <td>dropped</td>\n",
              "      <td>240</td>\n",
              "      <td>2.285300e+06</td>\n",
              "      <td>0.112815</td>\n",
              "      <td>596.132777</td>\n",
              "      <td>3</td>\n",
              "      <td>2</td>\n",
              "    </tr>\n",
              "    <tr>\n",
              "      <th>3</th>\n",
              "      <td>restart</td>\n",
              "      <td>310</td>\n",
              "      <td>6.204514e+03</td>\n",
              "      <td>0.000000</td>\n",
              "      <td>154.398332</td>\n",
              "      <td>4</td>\n",
              "      <td>1</td>\n",
              "    </tr>\n",
              "    <tr>\n",
              "      <th>4</th>\n",
              "      <td>dropped</td>\n",
              "      <td>370</td>\n",
              "      <td>1.749817e+04</td>\n",
              "      <td>0.158454</td>\n",
              "      <td>67.030120</td>\n",
              "      <td>5</td>\n",
              "      <td>2</td>\n",
              "    </tr>\n",
              "    <tr>\n",
              "      <th>...</th>\n",
              "      <td>...</td>\n",
              "      <td>...</td>\n",
              "      <td>...</td>\n",
              "      <td>...</td>\n",
              "      <td>...</td>\n",
              "      <td>...</td>\n",
              "      <td>...</td>\n",
              "    </tr>\n",
              "    <tr>\n",
              "      <th>407</th>\n",
              "      <td>dropped</td>\n",
              "      <td>13154</td>\n",
              "      <td>2.770345e-06</td>\n",
              "      <td>0.671570</td>\n",
              "      <td>0.091703</td>\n",
              "      <td>408</td>\n",
              "      <td>13</td>\n",
              "    </tr>\n",
              "    <tr>\n",
              "      <th>408</th>\n",
              "      <td>dropped</td>\n",
              "      <td>13256</td>\n",
              "      <td>1.659752e-06</td>\n",
              "      <td>0.660869</td>\n",
              "      <td>0.093029</td>\n",
              "      <td>409</td>\n",
              "      <td>13</td>\n",
              "    </tr>\n",
              "    <tr>\n",
              "      <th>409</th>\n",
              "      <td>dropped</td>\n",
              "      <td>13356</td>\n",
              "      <td>2.985747e-04</td>\n",
              "      <td>0.680112</td>\n",
              "      <td>0.089165</td>\n",
              "      <td>410</td>\n",
              "      <td>13</td>\n",
              "    </tr>\n",
              "    <tr>\n",
              "      <th>410</th>\n",
              "      <td>dropped</td>\n",
              "      <td>13456</td>\n",
              "      <td>3.071257e-04</td>\n",
              "      <td>0.680305</td>\n",
              "      <td>0.087989</td>\n",
              "      <td>411</td>\n",
              "      <td>13</td>\n",
              "    </tr>\n",
              "    <tr>\n",
              "      <th>411</th>\n",
              "      <td>end</td>\n",
              "      <td>13560</td>\n",
              "      <td>3.933615e-04</td>\n",
              "      <td>0.681944</td>\n",
              "      <td>0.086804</td>\n",
              "      <td>412</td>\n",
              "      <td>13</td>\n",
              "    </tr>\n",
              "  </tbody>\n",
              "</table>\n",
              "<p>412 rows × 7 columns</p>\n",
              "</div>"
            ],
            "text/plain": [
              "       event  num_grads            vl  bias_rel_err    grad_norm  iteration  \\\n",
              "0      start         50  8.325038e+06      0.000000  4929.233072          1   \n",
              "1    restart        110  9.323764e+05      0.000000  1692.175712          2   \n",
              "2    dropped        240  2.285300e+06      0.112815   596.132777          3   \n",
              "3    restart        310  6.204514e+03      0.000000   154.398332          4   \n",
              "4    dropped        370  1.749817e+04      0.158454    67.030120          5   \n",
              "..       ...        ...           ...           ...          ...        ...   \n",
              "407  dropped      13154  2.770345e-06      0.671570     0.091703        408   \n",
              "408  dropped      13256  1.659752e-06      0.660869     0.093029        409   \n",
              "409  dropped      13356  2.985747e-04      0.680112     0.089165        410   \n",
              "410  dropped      13456  3.071257e-04      0.680305     0.087989        411   \n",
              "411      end      13560  3.933615e-04      0.681944     0.086804        412   \n",
              "\n",
              "     hier_length  \n",
              "0              1  \n",
              "1              1  \n",
              "2              2  \n",
              "3              1  \n",
              "4              2  \n",
              "..           ...  \n",
              "407           13  \n",
              "408           13  \n",
              "409           13  \n",
              "410           13  \n",
              "411           13  \n",
              "\n",
              "[412 rows x 7 columns]"
            ]
          },
          "execution_count": 77,
          "metadata": {},
          "output_type": "execute_result"
        }
      ],
      "source": [
        "log = df.get_log()\n",
        "log"
      ]
    },
    {
      "cell_type": "markdown",
      "metadata": {
        "id": "DwmvCMIb8zlH"
      },
      "source": [
        "Now, let's plot the convergence of the norm of MICE's gradient estimates from the log DataFrame using the built-in plot_mice function."
      ]
    },
    {
      "cell_type": "code",
      "execution_count": null,
      "metadata": {
        "colab": {
          "base_uri": "https://localhost:8080/",
          "height": 354
        },
        "id": "gnRLzwsH9XAK",
        "outputId": "4fb2a412-3986-4bb7-d02e-0ca4b273715c"
      },
      "outputs": [
        {
          "data": {
            "text/plain": [
              "<matplotlib.legend.Legend at 0x7f90c4169fd0>"
            ]
          },
          "execution_count": 76,
          "metadata": {},
          "output_type": "execute_result"
        },
        {
          "data": {
            "image/png": "[encoded data removed]",
            "text/plain": [
              "<Figure size 432x360 with 1 Axes>"
            ]
          },
          "metadata": {
            "needs_background": "light"
          },
          "output_type": "display_data"
        }
      ],
      "source": [
        "fig, ax = plt.subplots(figsize=(6, 5))\n",
        "ax = plot_mice(log, ax, 'iteration', 'grad_norm', style='semilogy')\n",
        "ax.axhline(df.stop_crit_norm, ls='--', c='k', label='Gradient norm tolerance')\n",
        "ax.set_xlabel('Iteration')\n",
        "ax.set_ylabel('Norm of estimate')\n",
        "ax.legend()"
      ]
    },
    {
      "cell_type": "markdown",
      "metadata": {
        "id": "hmXRQE6q8zlI"
      },
      "source": [
        "Note that SGD-MICE required 411 iterations to reach the gradient norm tolerance. Let's use BayHess to obtain a Hessian approximation and pre-condition the gradient with its inverse. Before, we will create another instance of MICE."
      ]
    },
    {
      "cell_type": "code",
      "execution_count": null,
      "metadata": {
        "id": "Do1lFVj98zlI"
      },
      "outputs": [],
      "source": [
        "df_ = MICE(dobjf,\n",
        "          sampler=sampler,\n",
        "          eps=.7,\n",
        "          min_batch=5,\n",
        "          stop_crit_norm=0.1)"
      ]
    },
    {
      "cell_type": "markdown",
      "metadata": {
        "id": "C7sHybAG8zlI"
      },
      "source": [
        "And now, an instance of BayHess with $\\beta=10^{-2}$ and $\\rho=10^{-2}$."
      ]
    },
    {
      "cell_type": "code",
      "execution_count": null,
      "metadata": {
        "id": "ezEuzuK68zlJ"
      },
      "outputs": [],
      "source": [
        "bay = BayHess(n_dim=2, strong_conv=1, smooth=kappa,\n",
        "              penal=1e-2, reg_param=1e-2)"
      ]
    },
    {
      "cell_type": "markdown",
      "metadata": {
        "id": "nrknZc8-8zlJ"
      },
      "source": [
        "Setting the same startin point as for SGD-MICE and a corresponding step size of $1/(1 + \\epsilon^2)$,"
      ]
    },
    {
      "cell_type": "code",
      "execution_count": null,
      "metadata": {
        "id": "IA0T2Xiv8zlJ"
      },
      "outputs": [],
      "source": [
        "x = np.array([20., 50.])\n",
        "step_size = 1 / (1 + df.eps ** 2)"
      ]
    },
    {
      "cell_type": "markdown",
      "metadata": {
        "id": "icYMLaTv8zlJ"
      },
      "source": [
        "we can perform optimization using SGD-MICE-Bay."
      ]
    },
    {
      "cell_type": "code",
      "execution_count": null,
      "metadata": {
        "id": "N1F8d5ot8zlK"
      },
      "outputs": [],
      "source": [
        "while True:\n",
        "    grad = df_.evaluate(x)\n",
        "    bay.update_curv_pairs_mice(df_, x)\n",
        "    if not df_.k % 3:\n",
        "        bay.find_hess()\n",
        "    if df_.terminate:\n",
        "        break\n",
        "    x = x - step_size * solve(bay.hess, grad)"
      ]
    },
    {
      "cell_type": "markdown",
      "metadata": {
        "id": "ZuiFJXwt8zlK"
      },
      "source": [
        "Similarly to what we have done before, we can check MICE's log"
      ]
    },
    {
      "cell_type": "code",
      "execution_count": null,
      "metadata": {
        "id": "HFFO08QD8zlK",
        "outputId": "5f4cdd44-29a1-4eb2-aefb-7930c5afbf00"
      },
      "outputs": [
        {
          "data": {
            "text/html": [
              "<div>\n",
              "<style scoped>\n",
              "    .dataframe tbody tr th:only-of-type {\n",
              "        vertical-align: middle;\n",
              "    }\n",
              "\n",
              "    .dataframe tbody tr th {\n",
              "        vertical-align: top;\n",
              "    }\n",
              "\n",
              "    .dataframe thead th {\n",
              "        text-align: right;\n",
              "    }\n",
              "</style>\n",
              "<table border=\"1\" class=\"dataframe\">\n",
              "  <thead>\n",
              "    <tr style=\"text-align: right;\">\n",
              "      <th></th>\n",
              "      <th>event</th>\n",
              "      <th>num_grads</th>\n",
              "      <th>vl</th>\n",
              "      <th>bias_rel_err</th>\n",
              "      <th>grad_norm</th>\n",
              "      <th>iteration</th>\n",
              "      <th>hier_length</th>\n",
              "    </tr>\n",
              "  </thead>\n",
              "  <tbody>\n",
              "    <tr>\n",
              "      <th>0</th>\n",
              "      <td>start</td>\n",
              "      <td>50</td>\n",
              "      <td>8.282787e+06</td>\n",
              "      <td>0.000000</td>\n",
              "      <td>4673.393763</td>\n",
              "      <td>1</td>\n",
              "      <td>1</td>\n",
              "    </tr>\n",
              "    <tr>\n",
              "      <th>1</th>\n",
              "      <td>restart</td>\n",
              "      <td>110</td>\n",
              "      <td>5.439200e+05</td>\n",
              "      <td>0.000000</td>\n",
              "      <td>1285.543559</td>\n",
              "      <td>2</td>\n",
              "      <td>1</td>\n",
              "    </tr>\n",
              "    <tr>\n",
              "      <th>2</th>\n",
              "      <td>restart</td>\n",
              "      <td>170</td>\n",
              "      <td>6.293673e+04</td>\n",
              "      <td>0.000000</td>\n",
              "      <td>443.603878</td>\n",
              "      <td>3</td>\n",
              "      <td>1</td>\n",
              "    </tr>\n",
              "    <tr>\n",
              "      <th>3</th>\n",
              "      <td>dropped</td>\n",
              "      <td>409</td>\n",
              "      <td>9.220762e+04</td>\n",
              "      <td>0.075627</td>\n",
              "      <td>142.844470</td>\n",
              "      <td>4</td>\n",
              "      <td>2</td>\n",
              "    </tr>\n",
              "    <tr>\n",
              "      <th>4</th>\n",
              "      <td>dropped</td>\n",
              "      <td>725</td>\n",
              "      <td>4.674741e+04</td>\n",
              "      <td>0.259342</td>\n",
              "      <td>58.760275</td>\n",
              "      <td>5</td>\n",
              "      <td>2</td>\n",
              "    </tr>\n",
              "    <tr>\n",
              "      <th>5</th>\n",
              "      <td>restart</td>\n",
              "      <td>795</td>\n",
              "      <td>2.109363e+02</td>\n",
              "      <td>0.000000</td>\n",
              "      <td>38.145549</td>\n",
              "      <td>6</td>\n",
              "      <td>1</td>\n",
              "    </tr>\n",
              "    <tr>\n",
              "      <th>6</th>\n",
              "      <td>dropped</td>\n",
              "      <td>805</td>\n",
              "      <td>1.398866e+02</td>\n",
              "      <td>0.079187</td>\n",
              "      <td>24.730780</td>\n",
              "      <td>7</td>\n",
              "      <td>2</td>\n",
              "    </tr>\n",
              "    <tr>\n",
              "      <th>7</th>\n",
              "      <td>dropped</td>\n",
              "      <td>825</td>\n",
              "      <td>5.015829e+01</td>\n",
              "      <td>0.100685</td>\n",
              "      <td>19.450350</td>\n",
              "      <td>8</td>\n",
              "      <td>2</td>\n",
              "    </tr>\n",
              "    <tr>\n",
              "      <th>8</th>\n",
              "      <td>MICE</td>\n",
              "      <td>845</td>\n",
              "      <td>3.519453e+02</td>\n",
              "      <td>0.106777</td>\n",
              "      <td>18.340809</td>\n",
              "      <td>9</td>\n",
              "      <td>2</td>\n",
              "    </tr>\n",
              "    <tr>\n",
              "      <th>9</th>\n",
              "      <td>dropped</td>\n",
              "      <td>875</td>\n",
              "      <td>1.184324e+02</td>\n",
              "      <td>0.209867</td>\n",
              "      <td>23.072515</td>\n",
              "      <td>10</td>\n",
              "      <td>3</td>\n",
              "    </tr>\n",
              "    <tr>\n",
              "      <th>10</th>\n",
              "      <td>MICE</td>\n",
              "      <td>939</td>\n",
              "      <td>2.321899e+01</td>\n",
              "      <td>0.290524</td>\n",
              "      <td>10.480683</td>\n",
              "      <td>11</td>\n",
              "      <td>3</td>\n",
              "    </tr>\n",
              "    <tr>\n",
              "      <th>11</th>\n",
              "      <td>dropped</td>\n",
              "      <td>1001</td>\n",
              "      <td>4.353681e-01</td>\n",
              "      <td>0.348161</td>\n",
              "      <td>9.633329</td>\n",
              "      <td>12</td>\n",
              "      <td>4</td>\n",
              "    </tr>\n",
              "    <tr>\n",
              "      <th>12</th>\n",
              "      <td>restart</td>\n",
              "      <td>1071</td>\n",
              "      <td>2.817213e+01</td>\n",
              "      <td>0.000000</td>\n",
              "      <td>8.431874</td>\n",
              "      <td>13</td>\n",
              "      <td>1</td>\n",
              "    </tr>\n",
              "    <tr>\n",
              "      <th>13</th>\n",
              "      <td>restart</td>\n",
              "      <td>1131</td>\n",
              "      <td>3.879182e+00</td>\n",
              "      <td>0.000000</td>\n",
              "      <td>2.169917</td>\n",
              "      <td>14</td>\n",
              "      <td>1</td>\n",
              "    </tr>\n",
              "    <tr>\n",
              "      <th>14</th>\n",
              "      <td>restart</td>\n",
              "      <td>1191</td>\n",
              "      <td>1.352385e+00</td>\n",
              "      <td>0.000000</td>\n",
              "      <td>0.686814</td>\n",
              "      <td>15</td>\n",
              "      <td>1</td>\n",
              "    </tr>\n",
              "    <tr>\n",
              "      <th>15</th>\n",
              "      <td>restart</td>\n",
              "      <td>1251</td>\n",
              "      <td>7.287885e-01</td>\n",
              "      <td>0.000000</td>\n",
              "      <td>0.353897</td>\n",
              "      <td>16</td>\n",
              "      <td>1</td>\n",
              "    </tr>\n",
              "    <tr>\n",
              "      <th>16</th>\n",
              "      <td>end</td>\n",
              "      <td>2666</td>\n",
              "      <td>2.006314e-02</td>\n",
              "      <td>0.060557</td>\n",
              "      <td>0.081868</td>\n",
              "      <td>17</td>\n",
              "      <td>2</td>\n",
              "    </tr>\n",
              "    <tr>\n",
              "      <th>17</th>\n",
              "      <td>end</td>\n",
              "      <td>2686</td>\n",
              "      <td>0.000000e+00</td>\n",
              "      <td>0.353219</td>\n",
              "      <td>0.081868</td>\n",
              "      <td>18</td>\n",
              "      <td>3</td>\n",
              "    </tr>\n",
              "  </tbody>\n",
              "</table>\n",
              "</div>"
            ],
            "text/plain": [
              "      event  num_grads            vl  bias_rel_err    grad_norm  iteration  \\\n",
              "0     start         50  8.282787e+06      0.000000  4673.393763          1   \n",
              "1   restart        110  5.439200e+05      0.000000  1285.543559          2   \n",
              "2   restart        170  6.293673e+04      0.000000   443.603878          3   \n",
              "3   dropped        409  9.220762e+04      0.075627   142.844470          4   \n",
              "4   dropped        725  4.674741e+04      0.259342    58.760275          5   \n",
              "5   restart        795  2.109363e+02      0.000000    38.145549          6   \n",
              "6   dropped        805  1.398866e+02      0.079187    24.730780          7   \n",
              "7   dropped        825  5.015829e+01      0.100685    19.450350          8   \n",
              "8      MICE        845  3.519453e+02      0.106777    18.340809          9   \n",
              "9   dropped        875  1.184324e+02      0.209867    23.072515         10   \n",
              "10     MICE        939  2.321899e+01      0.290524    10.480683         11   \n",
              "11  dropped       1001  4.353681e-01      0.348161     9.633329         12   \n",
              "12  restart       1071  2.817213e+01      0.000000     8.431874         13   \n",
              "13  restart       1131  3.879182e+00      0.000000     2.169917         14   \n",
              "14  restart       1191  1.352385e+00      0.000000     0.686814         15   \n",
              "15  restart       1251  7.287885e-01      0.000000     0.353897         16   \n",
              "16      end       2666  2.006314e-02      0.060557     0.081868         17   \n",
              "17      end       2686  0.000000e+00      0.353219     0.081868         18   \n",
              "\n",
              "    hier_length  \n",
              "0             1  \n",
              "1             1  \n",
              "2             1  \n",
              "3             2  \n",
              "4             2  \n",
              "5             1  \n",
              "6             2  \n",
              "7             2  \n",
              "8             2  \n",
              "9             3  \n",
              "10            3  \n",
              "11            4  \n",
              "12            1  \n",
              "13            1  \n",
              "14            1  \n",
              "15            1  \n",
              "16            2  \n",
              "17            3  "
            ]
          },
          "execution_count": 87,
          "metadata": {},
          "output_type": "execute_result"
        }
      ],
      "source": [
        "log_ = df_.get_log()\n",
        "log_"
      ]
    },
    {
      "cell_type": "markdown",
      "metadata": {
        "id": "JZNEoS5Z8zlK"
      },
      "source": [
        "And make a convergence plot."
      ]
    },
    {
      "cell_type": "code",
      "execution_count": null,
      "metadata": {
        "id": "RmUSJvTq8zlL",
        "outputId": "55eed9db-d0b2-41d1-de9c-55e5bd198614"
      },
      "outputs": [
        {
          "data": {
            "text/plain": [
              "<matplotlib.legend.Legend at 0x7f90c408eeb0>"
            ]
          },
          "execution_count": 89,
          "metadata": {},
          "output_type": "execute_result"
        },
        {
          "data": {
            "image/png": "[encoded data removed]",
            "text/plain": [
              "<Figure size 432x360 with 1 Axes>"
            ]
          },
          "metadata": {
            "needs_background": "light"
          },
          "output_type": "display_data"
        }
      ],
      "source": [
        "fig, ax = plt.subplots(figsize=(6, 5))\n",
        "ax = plot_mice(log_, ax, 'iteration', 'grad_norm', style='semilogy')\n",
        "ax.axhline(df_.stop_crit_norm, ls='--', c='k', label='Gradient norm tolerance')\n",
        "ax.set_xlabel('Iteration')\n",
        "ax.set_ylabel('Norm of estimate')\n",
        "ax.legend()"
      ]
    },
    {
      "cell_type": "markdown",
      "metadata": {
        "id": "uGuB-Vn48zlL"
      },
      "source": [
        "To better illustrate the difference, let's make a convergence plot comparing SGD-MICE with and without the Bayesian Hessian pre-conditioning."
      ]
    },
    {
      "cell_type": "code",
      "execution_count": null,
      "metadata": {
        "id": "hr2HzIb98zlL",
        "outputId": "1af6788f-febd-4924-ea02-452c951d5347"
      },
      "outputs": [
        {
          "data": {
            "text/plain": [
              "<matplotlib.legend.Legend at 0x7f90c39091f0>"
            ]
          },
          "execution_count": 94,
          "metadata": {},
          "output_type": "execute_result"
        },
        {
          "data": {
            "image/png": "[encoded data removed]",
            "text/plain": [
              "<Figure size 432x360 with 1 Axes>"
            ]
          },
          "metadata": {
            "needs_background": "light"
          },
          "output_type": "display_data"
        }
      ],
      "source": [
        "fig, ax = plt.subplots(figsize=(6, 5))\n",
        "ax.semilogy(log[\"grad_norm\"], label=\"SGD-MICE\")\n",
        "ax.semilogy(log_[\"grad_norm\"], label=\"SGD-MICE-Bay\")\n",
        "ax.axhline(df_.stop_crit_norm, ls='--', c='k', label='Gradient norm tolerance')\n",
        "ax.set_xlabel('Iteration')\n",
        "ax.set_ylabel('Norm of estimate')\n",
        "ax.legend()"
      ]
    },
    {
      "cell_type": "markdown",
      "metadata": {
        "id": "vVy6Cm928zlL"
      },
      "source": [
        "Still, due to MICE's adaptive control of the relative statistical error, the number of gradient evaluations changes per iteration. Let's take a look at the convergence versus the number of gradient evaluations."
      ]
    },
    {
      "cell_type": "code",
      "execution_count": null,
      "metadata": {
        "id": "o9_bwjny8zlM",
        "outputId": "ddae5310-ed7c-4f83-f086-067440f989ae"
      },
      "outputs": [
        {
          "data": {
            "text/plain": [
              "<matplotlib.legend.Legend at 0x7f90c170c910>"
            ]
          },
          "execution_count": 95,
          "metadata": {},
          "output_type": "execute_result"
        },
        {
          "data": {
            "image/png": "[encoded data removed]",
            "text/plain": [
              "<Figure size 432x360 with 1 Axes>"
            ]
          },
          "metadata": {
            "needs_background": "light"
          },
          "output_type": "display_data"
        }
      ],
      "source": [
        "fig, ax = plt.subplots(figsize=(6, 5))\n",
        "ax.loglog(log[\"num_grads\"], log[\"grad_norm\"], label=\"SGD-MICE\")\n",
        "ax.loglog(log_[\"num_grads\"], log_[\"grad_norm\"], label=\"SGD-MICE-Bay\")\n",
        "ax.axhline(df_.stop_crit_norm, ls='--', c='k', label='Gradient norm tolerance')\n",
        "ax.set_xlabel('Gradient evaluations')\n",
        "ax.set_ylabel('Norm of estimate')\n",
        "ax.legend()"
      ]
    },
    {
      "cell_type": "markdown",
      "metadata": {
        "id": "m1OBloem8zlM"
      },
      "source": [
        "Using the Hessian approximation from BayHess resulted in a dramatic reduction in the cost of achieving the desired tolerance. \n"
      ]
    },
    {
      "cell_type": "code",
      "execution_count": null,
      "metadata": {
        "id": "pd_P5Jat8zlM",
        "outputId": "92750488-7e30-4136-9e79-dcc9a8e6e76c"
      },
      "outputs": [
        {
          "name": "stdout",
          "output_type": "stream",
          "text": [
            "BayHess reduced the overall cost in 80.192 %\n"
          ]
        }
      ],
      "source": [
        "reduction = (log[\"num_grads\"].max() - log_[\"num_grads\"].max()) / log[\"num_grads\"].max()*100\n",
        "print(f\"BayHess reduced the overall cost in {reduction:.3f} %\")"
      ]
    }
  ],
  "metadata": {
    "colab": {
      "collapsed_sections": [],
      "name": "getting_started_bayhess.ipynb",
      "provenance": [],
      "include_colab_link": true
    },
    "kernelspec": {
      "display_name": "Python 3.9.12 ('p39')",
      "language": "python",
      "name": "python3"
    },
    "language_info": {
      "codemirror_mode": {
        "name": "ipython",
        "version": 3
      },
      "file_extension": ".py",
      "mimetype": "text/x-python",
      "name": "python",
      "nbconvert_exporter": "python",
      "pygments_lexer": "ipython3",
      "version": "3.9.12"
    },
    "vscode": {
      "interpreter": {
        "hash": "7000827a21dab89200a27ba1a36e236b9ff35ee373e11f5b6d30be3a565e86b3"
      }
    }
  },
  "nbformat": 4,
  "nbformat_minor": 0
}